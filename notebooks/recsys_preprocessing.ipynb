{
  "nbformat": 4,
  "nbformat_minor": 0,
  "metadata": {
    "colab": {
      "provenance": []
    },
    "kernelspec": {
      "name": "python3",
      "display_name": "Python 3"
    },
    "language_info": {
      "name": "python"
    }
  },
  "cells": [
    {
      "cell_type": "code",
      "execution_count": null,
      "metadata": {
        "id": "HRWpmNpCbgxI"
      },
      "outputs": [],
      "source": [
        "import pandas as pd\n",
        "from tqdm import tqdm\n",
        "from gensim.models import Word2Vec\n",
        "from datetime import datetime"
      ]
    },
    {
      "cell_type": "code",
      "source": [
        "df_x = pd.read_csv(\"../dataset/dressipi_recsys2022/train_sessions.csv\")\n",
        "df_y = pd.read_csv(\"../dataset/dressipi_recsys2022/train_purchases.csv\")"
      ],
      "metadata": {
        "id": "p_AEAQeEbyvJ"
      },
      "execution_count": null,
      "outputs": []
    },
    {
      "cell_type": "code",
      "source": [
        "df_x['session_id'] = df_x['session_id'].astype(str)\n",
        "df_x['item_id'] = df_x['item_id'].astype(str)\n",
        "df_y['session_id'] = df_y['session_id'].astype(str)\n",
        "df_y['item_id'] = df_y['item_id'].astype(str)"
      ],
      "metadata": {
        "id": "NvrBhJAtb236"
      },
      "execution_count": null,
      "outputs": []
    },
    {
      "cell_type": "code",
      "source": [
        "df_x.sort_values(by=['date'],inplace=True)"
      ],
      "metadata": {
        "id": "XFl0TqssoxIU"
      },
      "execution_count": null,
      "outputs": []
    },
    {
      "cell_type": "code",
      "source": [
        "df_x.head()"
      ],
      "metadata": {
        "colab": {
          "base_uri": "https://localhost:8080/",
          "height": 206
        },
        "id": "LOOdyoSMTh_l",
        "outputId": "bde23782-241d-4061-ca23-b35baadba619"
      },
      "execution_count": null,
      "outputs": [
        {
          "output_type": "execute_result",
          "data": {
            "text/plain": [
              "        session_id item_id                     date formatted_date\n",
              "4005618    3747794   11234  2020-01-01 00:00:01.359        2020-01\n",
              "3699175    3458777    3868   2020-01-01 00:00:21.44        2020-01\n",
              "4005616    3747794    9214  2020-01-01 00:00:22.294        2020-01\n",
              "4649622    4350716   10861  2020-01-01 00:00:48.505        2020-01\n",
              "4005614    3747794   27092  2020-01-01 00:02:14.538        2020-01"
            ],
            "text/html": [
              "\n",
              "  <div id=\"df-5dad4b7c-05d1-4958-a4a4-26e9fc6f88c3\">\n",
              "    <div class=\"colab-df-container\">\n",
              "      <div>\n",
              "<style scoped>\n",
              "    .dataframe tbody tr th:only-of-type {\n",
              "        vertical-align: middle;\n",
              "    }\n",
              "\n",
              "    .dataframe tbody tr th {\n",
              "        vertical-align: top;\n",
              "    }\n",
              "\n",
              "    .dataframe thead th {\n",
              "        text-align: right;\n",
              "    }\n",
              "</style>\n",
              "<table border=\"1\" class=\"dataframe\">\n",
              "  <thead>\n",
              "    <tr style=\"text-align: right;\">\n",
              "      <th></th>\n",
              "      <th>session_id</th>\n",
              "      <th>item_id</th>\n",
              "      <th>date</th>\n",
              "      <th>formatted_date</th>\n",
              "    </tr>\n",
              "  </thead>\n",
              "  <tbody>\n",
              "    <tr>\n",
              "      <th>4005618</th>\n",
              "      <td>3747794</td>\n",
              "      <td>11234</td>\n",
              "      <td>2020-01-01 00:00:01.359</td>\n",
              "      <td>2020-01</td>\n",
              "    </tr>\n",
              "    <tr>\n",
              "      <th>3699175</th>\n",
              "      <td>3458777</td>\n",
              "      <td>3868</td>\n",
              "      <td>2020-01-01 00:00:21.44</td>\n",
              "      <td>2020-01</td>\n",
              "    </tr>\n",
              "    <tr>\n",
              "      <th>4005616</th>\n",
              "      <td>3747794</td>\n",
              "      <td>9214</td>\n",
              "      <td>2020-01-01 00:00:22.294</td>\n",
              "      <td>2020-01</td>\n",
              "    </tr>\n",
              "    <tr>\n",
              "      <th>4649622</th>\n",
              "      <td>4350716</td>\n",
              "      <td>10861</td>\n",
              "      <td>2020-01-01 00:00:48.505</td>\n",
              "      <td>2020-01</td>\n",
              "    </tr>\n",
              "    <tr>\n",
              "      <th>4005614</th>\n",
              "      <td>3747794</td>\n",
              "      <td>27092</td>\n",
              "      <td>2020-01-01 00:02:14.538</td>\n",
              "      <td>2020-01</td>\n",
              "    </tr>\n",
              "  </tbody>\n",
              "</table>\n",
              "</div>\n",
              "      <button class=\"colab-df-convert\" onclick=\"convertToInteractive('df-5dad4b7c-05d1-4958-a4a4-26e9fc6f88c3')\"\n",
              "              title=\"Convert this dataframe to an interactive table.\"\n",
              "              style=\"display:none;\">\n",
              "        \n",
              "  <svg xmlns=\"http://www.w3.org/2000/svg\" height=\"24px\"viewBox=\"0 0 24 24\"\n",
              "       width=\"24px\">\n",
              "    <path d=\"M0 0h24v24H0V0z\" fill=\"none\"/>\n",
              "    <path d=\"M18.56 5.44l.94 2.06.94-2.06 2.06-.94-2.06-.94-.94-2.06-.94 2.06-2.06.94zm-11 1L8.5 8.5l.94-2.06 2.06-.94-2.06-.94L8.5 2.5l-.94 2.06-2.06.94zm10 10l.94 2.06.94-2.06 2.06-.94-2.06-.94-.94-2.06-.94 2.06-2.06.94z\"/><path d=\"M17.41 7.96l-1.37-1.37c-.4-.4-.92-.59-1.43-.59-.52 0-1.04.2-1.43.59L10.3 9.45l-7.72 7.72c-.78.78-.78 2.05 0 2.83L4 21.41c.39.39.9.59 1.41.59.51 0 1.02-.2 1.41-.59l7.78-7.78 2.81-2.81c.8-.78.8-2.07 0-2.86zM5.41 20L4 18.59l7.72-7.72 1.47 1.35L5.41 20z\"/>\n",
              "  </svg>\n",
              "      </button>\n",
              "      \n",
              "  <style>\n",
              "    .colab-df-container {\n",
              "      display:flex;\n",
              "      flex-wrap:wrap;\n",
              "      gap: 12px;\n",
              "    }\n",
              "\n",
              "    .colab-df-convert {\n",
              "      background-color: #E8F0FE;\n",
              "      border: none;\n",
              "      border-radius: 50%;\n",
              "      cursor: pointer;\n",
              "      display: none;\n",
              "      fill: #1967D2;\n",
              "      height: 32px;\n",
              "      padding: 0 0 0 0;\n",
              "      width: 32px;\n",
              "    }\n",
              "\n",
              "    .colab-df-convert:hover {\n",
              "      background-color: #E2EBFA;\n",
              "      box-shadow: 0px 1px 2px rgba(60, 64, 67, 0.3), 0px 1px 3px 1px rgba(60, 64, 67, 0.15);\n",
              "      fill: #174EA6;\n",
              "    }\n",
              "\n",
              "    [theme=dark] .colab-df-convert {\n",
              "      background-color: #3B4455;\n",
              "      fill: #D2E3FC;\n",
              "    }\n",
              "\n",
              "    [theme=dark] .colab-df-convert:hover {\n",
              "      background-color: #434B5C;\n",
              "      box-shadow: 0px 1px 3px 1px rgba(0, 0, 0, 0.15);\n",
              "      filter: drop-shadow(0px 1px 2px rgba(0, 0, 0, 0.3));\n",
              "      fill: #FFFFFF;\n",
              "    }\n",
              "  </style>\n",
              "\n",
              "      <script>\n",
              "        const buttonEl =\n",
              "          document.querySelector('#df-5dad4b7c-05d1-4958-a4a4-26e9fc6f88c3 button.colab-df-convert');\n",
              "        buttonEl.style.display =\n",
              "          google.colab.kernel.accessAllowed ? 'block' : 'none';\n",
              "\n",
              "        async function convertToInteractive(key) {\n",
              "          const element = document.querySelector('#df-5dad4b7c-05d1-4958-a4a4-26e9fc6f88c3');\n",
              "          const dataTable =\n",
              "            await google.colab.kernel.invokeFunction('convertToInteractive',\n",
              "                                                     [key], {});\n",
              "          if (!dataTable) return;\n",
              "\n",
              "          const docLinkHtml = 'Like what you see? Visit the ' +\n",
              "            '<a target=\"_blank\" href=https://colab.research.google.com/notebooks/data_table.ipynb>data table notebook</a>'\n",
              "            + ' to learn more about interactive tables.';\n",
              "          element.innerHTML = '';\n",
              "          dataTable['output_type'] = 'display_data';\n",
              "          await google.colab.output.renderOutput(dataTable, element);\n",
              "          const docLink = document.createElement('div');\n",
              "          docLink.innerHTML = docLinkHtml;\n",
              "          element.appendChild(docLink);\n",
              "        }\n",
              "      </script>\n",
              "    </div>\n",
              "  </div>\n",
              "  "
            ]
          },
          "metadata": {},
          "execution_count": 11
        }
      ]
    },
    {
      "cell_type": "code",
      "source": [
        "df_x['formatted_date'] = df_x['date'].apply(lambda x:x[:7])"
      ],
      "metadata": {
        "id": "YRqt2sFNqk80"
      },
      "execution_count": null,
      "outputs": []
    },
    {
      "cell_type": "code",
      "source": [
        "xf = df_x['formatted_date'].value_counts().to_frame().reset_index()"
      ],
      "metadata": {
        "id": "RtwvYBB-pfKC"
      },
      "execution_count": null,
      "outputs": []
    },
    {
      "cell_type": "code",
      "source": [
        "xf.rename(columns={'index':'month','formatted_data':'count'},inplace=True)\n",
        "xf.sort_values(by=['month'],inplace=True)"
      ],
      "metadata": {
        "id": "jwF39zTMTqb5"
      },
      "execution_count": null,
      "outputs": []
    },
    {
      "cell_type": "code",
      "source": [
        "xf['cumsum'] = xf['formatted_date'].cumsum()\n",
        "xf['cum_per'] = xf['cumsum'] / xf['cumsum'].tolist()[-1]"
      ],
      "metadata": {
        "id": "xPhDzB6KylMd"
      },
      "execution_count": null,
      "outputs": []
    },
    {
      "cell_type": "code",
      "source": [
        "xf"
      ],
      "metadata": {
        "colab": {
          "base_uri": "https://localhost:8080/",
          "height": 582
        },
        "id": "OgVkoU8gRULt",
        "outputId": "d944f588-6e3d-404e-a2fb-ec7ecf8d4b33"
      },
      "execution_count": null,
      "outputs": [
        {
          "output_type": "execute_result",
          "data": {
            "text/plain": [
              "      month  formatted_date   cumsum   cum_per\n",
              "13  2020-01          182730   182730  0.038520\n",
              "16  2020-02          133741   316471  0.066712\n",
              "14  2020-03          174761   491232  0.103552\n",
              "9   2020-04          267263   758495  0.159891\n",
              "12  2020-05          204240   962735  0.202945\n",
              "8   2020-06          283704  1246439  0.262750\n",
              "11  2020-07          240108  1486547  0.313365\n",
              "6   2020-08          296736  1783283  0.375917\n",
              "2   2020-09          373697  2156980  0.454693\n",
              "7   2020-10          284919  2441899  0.514754\n",
              "1   2020-11          412009  2853908  0.601605\n",
              "3   2020-12          343902  3197810  0.674100\n",
              "10  2021-01          259413  3457223  0.728785\n",
              "15  2021-02          173975  3631198  0.765459\n",
              "5   2021-03          302358  3933556  0.829196\n",
              "4   2021-04          340149  4273705  0.900899\n",
              "0   2021-05          470115  4743820  1.000000"
            ],
            "text/html": [
              "\n",
              "  <div id=\"df-990fc8db-378c-4b0e-af6f-82d63ca7a05f\">\n",
              "    <div class=\"colab-df-container\">\n",
              "      <div>\n",
              "<style scoped>\n",
              "    .dataframe tbody tr th:only-of-type {\n",
              "        vertical-align: middle;\n",
              "    }\n",
              "\n",
              "    .dataframe tbody tr th {\n",
              "        vertical-align: top;\n",
              "    }\n",
              "\n",
              "    .dataframe thead th {\n",
              "        text-align: right;\n",
              "    }\n",
              "</style>\n",
              "<table border=\"1\" class=\"dataframe\">\n",
              "  <thead>\n",
              "    <tr style=\"text-align: right;\">\n",
              "      <th></th>\n",
              "      <th>month</th>\n",
              "      <th>formatted_date</th>\n",
              "      <th>cumsum</th>\n",
              "      <th>cum_per</th>\n",
              "    </tr>\n",
              "  </thead>\n",
              "  <tbody>\n",
              "    <tr>\n",
              "      <th>13</th>\n",
              "      <td>2020-01</td>\n",
              "      <td>182730</td>\n",
              "      <td>182730</td>\n",
              "      <td>0.038520</td>\n",
              "    </tr>\n",
              "    <tr>\n",
              "      <th>16</th>\n",
              "      <td>2020-02</td>\n",
              "      <td>133741</td>\n",
              "      <td>316471</td>\n",
              "      <td>0.066712</td>\n",
              "    </tr>\n",
              "    <tr>\n",
              "      <th>14</th>\n",
              "      <td>2020-03</td>\n",
              "      <td>174761</td>\n",
              "      <td>491232</td>\n",
              "      <td>0.103552</td>\n",
              "    </tr>\n",
              "    <tr>\n",
              "      <th>9</th>\n",
              "      <td>2020-04</td>\n",
              "      <td>267263</td>\n",
              "      <td>758495</td>\n",
              "      <td>0.159891</td>\n",
              "    </tr>\n",
              "    <tr>\n",
              "      <th>12</th>\n",
              "      <td>2020-05</td>\n",
              "      <td>204240</td>\n",
              "      <td>962735</td>\n",
              "      <td>0.202945</td>\n",
              "    </tr>\n",
              "    <tr>\n",
              "      <th>8</th>\n",
              "      <td>2020-06</td>\n",
              "      <td>283704</td>\n",
              "      <td>1246439</td>\n",
              "      <td>0.262750</td>\n",
              "    </tr>\n",
              "    <tr>\n",
              "      <th>11</th>\n",
              "      <td>2020-07</td>\n",
              "      <td>240108</td>\n",
              "      <td>1486547</td>\n",
              "      <td>0.313365</td>\n",
              "    </tr>\n",
              "    <tr>\n",
              "      <th>6</th>\n",
              "      <td>2020-08</td>\n",
              "      <td>296736</td>\n",
              "      <td>1783283</td>\n",
              "      <td>0.375917</td>\n",
              "    </tr>\n",
              "    <tr>\n",
              "      <th>2</th>\n",
              "      <td>2020-09</td>\n",
              "      <td>373697</td>\n",
              "      <td>2156980</td>\n",
              "      <td>0.454693</td>\n",
              "    </tr>\n",
              "    <tr>\n",
              "      <th>7</th>\n",
              "      <td>2020-10</td>\n",
              "      <td>284919</td>\n",
              "      <td>2441899</td>\n",
              "      <td>0.514754</td>\n",
              "    </tr>\n",
              "    <tr>\n",
              "      <th>1</th>\n",
              "      <td>2020-11</td>\n",
              "      <td>412009</td>\n",
              "      <td>2853908</td>\n",
              "      <td>0.601605</td>\n",
              "    </tr>\n",
              "    <tr>\n",
              "      <th>3</th>\n",
              "      <td>2020-12</td>\n",
              "      <td>343902</td>\n",
              "      <td>3197810</td>\n",
              "      <td>0.674100</td>\n",
              "    </tr>\n",
              "    <tr>\n",
              "      <th>10</th>\n",
              "      <td>2021-01</td>\n",
              "      <td>259413</td>\n",
              "      <td>3457223</td>\n",
              "      <td>0.728785</td>\n",
              "    </tr>\n",
              "    <tr>\n",
              "      <th>15</th>\n",
              "      <td>2021-02</td>\n",
              "      <td>173975</td>\n",
              "      <td>3631198</td>\n",
              "      <td>0.765459</td>\n",
              "    </tr>\n",
              "    <tr>\n",
              "      <th>5</th>\n",
              "      <td>2021-03</td>\n",
              "      <td>302358</td>\n",
              "      <td>3933556</td>\n",
              "      <td>0.829196</td>\n",
              "    </tr>\n",
              "    <tr>\n",
              "      <th>4</th>\n",
              "      <td>2021-04</td>\n",
              "      <td>340149</td>\n",
              "      <td>4273705</td>\n",
              "      <td>0.900899</td>\n",
              "    </tr>\n",
              "    <tr>\n",
              "      <th>0</th>\n",
              "      <td>2021-05</td>\n",
              "      <td>470115</td>\n",
              "      <td>4743820</td>\n",
              "      <td>1.000000</td>\n",
              "    </tr>\n",
              "  </tbody>\n",
              "</table>\n",
              "</div>\n",
              "      <button class=\"colab-df-convert\" onclick=\"convertToInteractive('df-990fc8db-378c-4b0e-af6f-82d63ca7a05f')\"\n",
              "              title=\"Convert this dataframe to an interactive table.\"\n",
              "              style=\"display:none;\">\n",
              "        \n",
              "  <svg xmlns=\"http://www.w3.org/2000/svg\" height=\"24px\"viewBox=\"0 0 24 24\"\n",
              "       width=\"24px\">\n",
              "    <path d=\"M0 0h24v24H0V0z\" fill=\"none\"/>\n",
              "    <path d=\"M18.56 5.44l.94 2.06.94-2.06 2.06-.94-2.06-.94-.94-2.06-.94 2.06-2.06.94zm-11 1L8.5 8.5l.94-2.06 2.06-.94-2.06-.94L8.5 2.5l-.94 2.06-2.06.94zm10 10l.94 2.06.94-2.06 2.06-.94-2.06-.94-.94-2.06-.94 2.06-2.06.94z\"/><path d=\"M17.41 7.96l-1.37-1.37c-.4-.4-.92-.59-1.43-.59-.52 0-1.04.2-1.43.59L10.3 9.45l-7.72 7.72c-.78.78-.78 2.05 0 2.83L4 21.41c.39.39.9.59 1.41.59.51 0 1.02-.2 1.41-.59l7.78-7.78 2.81-2.81c.8-.78.8-2.07 0-2.86zM5.41 20L4 18.59l7.72-7.72 1.47 1.35L5.41 20z\"/>\n",
              "  </svg>\n",
              "      </button>\n",
              "      \n",
              "  <style>\n",
              "    .colab-df-container {\n",
              "      display:flex;\n",
              "      flex-wrap:wrap;\n",
              "      gap: 12px;\n",
              "    }\n",
              "\n",
              "    .colab-df-convert {\n",
              "      background-color: #E8F0FE;\n",
              "      border: none;\n",
              "      border-radius: 50%;\n",
              "      cursor: pointer;\n",
              "      display: none;\n",
              "      fill: #1967D2;\n",
              "      height: 32px;\n",
              "      padding: 0 0 0 0;\n",
              "      width: 32px;\n",
              "    }\n",
              "\n",
              "    .colab-df-convert:hover {\n",
              "      background-color: #E2EBFA;\n",
              "      box-shadow: 0px 1px 2px rgba(60, 64, 67, 0.3), 0px 1px 3px 1px rgba(60, 64, 67, 0.15);\n",
              "      fill: #174EA6;\n",
              "    }\n",
              "\n",
              "    [theme=dark] .colab-df-convert {\n",
              "      background-color: #3B4455;\n",
              "      fill: #D2E3FC;\n",
              "    }\n",
              "\n",
              "    [theme=dark] .colab-df-convert:hover {\n",
              "      background-color: #434B5C;\n",
              "      box-shadow: 0px 1px 3px 1px rgba(0, 0, 0, 0.15);\n",
              "      filter: drop-shadow(0px 1px 2px rgba(0, 0, 0, 0.3));\n",
              "      fill: #FFFFFF;\n",
              "    }\n",
              "  </style>\n",
              "\n",
              "      <script>\n",
              "        const buttonEl =\n",
              "          document.querySelector('#df-990fc8db-378c-4b0e-af6f-82d63ca7a05f button.colab-df-convert');\n",
              "        buttonEl.style.display =\n",
              "          google.colab.kernel.accessAllowed ? 'block' : 'none';\n",
              "\n",
              "        async function convertToInteractive(key) {\n",
              "          const element = document.querySelector('#df-990fc8db-378c-4b0e-af6f-82d63ca7a05f');\n",
              "          const dataTable =\n",
              "            await google.colab.kernel.invokeFunction('convertToInteractive',\n",
              "                                                     [key], {});\n",
              "          if (!dataTable) return;\n",
              "\n",
              "          const docLinkHtml = 'Like what you see? Visit the ' +\n",
              "            '<a target=\"_blank\" href=https://colab.research.google.com/notebooks/data_table.ipynb>data table notebook</a>'\n",
              "            + ' to learn more about interactive tables.';\n",
              "          element.innerHTML = '';\n",
              "          dataTable['output_type'] = 'display_data';\n",
              "          await google.colab.output.renderOutput(dataTable, element);\n",
              "          const docLink = document.createElement('div');\n",
              "          docLink.innerHTML = docLinkHtml;\n",
              "          element.appendChild(docLink);\n",
              "        }\n",
              "      </script>\n",
              "    </div>\n",
              "  </div>\n",
              "  "
            ]
          },
          "metadata": {},
          "execution_count": 23
        }
      ]
    },
    {
      "cell_type": "code",
      "source": [
        "test_months = xf[xf['cum_per'] > 0.91]['month']"
      ],
      "metadata": {
        "id": "3fybavWTwZhS"
      },
      "execution_count": null,
      "outputs": []
    },
    {
      "cell_type": "code",
      "source": [
        "test_months"
      ],
      "metadata": {
        "colab": {
          "base_uri": "https://localhost:8080/"
        },
        "id": "pyxxG1ovRk9U",
        "outputId": "213e933a-2941-4b01-b315-b26dabc88fe8"
      },
      "execution_count": null,
      "outputs": [
        {
          "output_type": "execute_result",
          "data": {
            "text/plain": [
              "0    2021-05\n",
              "Name: month, dtype: object"
            ]
          },
          "metadata": {},
          "execution_count": 31
        }
      ]
    },
    {
      "cell_type": "code",
      "source": [
        "test_df = df_x[df_x['formatted_date'].isin(test_months)]\n",
        "train_df = df_x[~df_x['formatted_date'].isin(test_months)]"
      ],
      "metadata": {
        "id": "piFAxrQi2JHq"
      },
      "execution_count": null,
      "outputs": []
    },
    {
      "cell_type": "code",
      "source": [
        "df_y['is_train'] = df_y['session_id'].isin(train_df['session_id'])"
      ],
      "metadata": {
        "id": "s_CJ10_Yt2JW"
      },
      "execution_count": null,
      "outputs": []
    },
    {
      "cell_type": "code",
      "source": [
        "train_y = df_y[df_y['is_train']==True]\n",
        "test_y = df_y[df_y['is_train']==False]"
      ],
      "metadata": {
        "id": "biJrTrtpvWn5"
      },
      "execution_count": null,
      "outputs": []
    },
    {
      "cell_type": "code",
      "source": [
        "len(train_df['session_id'].unique().tolist()), len(test_df['session_id'].unique().tolist()), "
      ],
      "metadata": {
        "id": "S1JdE1yxAPaD",
        "colab": {
          "base_uri": "https://localhost:8080/"
        },
        "outputId": "22e509d5-235e-4896-c7fc-38d50f9f506f"
      },
      "execution_count": null,
      "outputs": [
        {
          "output_type": "execute_result",
          "data": {
            "text/plain": [
              "(918382, 81618)"
            ]
          },
          "metadata": {},
          "execution_count": 36
        }
      ]
    },
    {
      "cell_type": "code",
      "source": [
        "train_df.to_csv(\"../dataset/data/x_train.csv\",index=False)\n",
        "test_df.to_csv(\"../dataset/data/x_test.csv\",index=False)\n",
        "train_y.to_csv(\"../dataset/data/y_train.csv\",index=False)\n",
        "test_y.to_csv(\"../dataset/data/y_test.csv\",index=False)"
      ],
      "metadata": {
        "id": "_UO7kNtyVbro"
      },
      "execution_count": null,
      "outputs": []
    },
    {
      "cell_type": "code",
      "source": [],
      "metadata": {
        "id": "VSUZxXaTW7ls"
      },
      "execution_count": null,
      "outputs": []
    }
  ]
}