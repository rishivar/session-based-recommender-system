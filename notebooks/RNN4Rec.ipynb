{
 "cells": [
  {
   "cell_type": "code",
   "execution_count": 41,
   "metadata": {
    "id": "RFOX9_OWqrmC"
   },
   "outputs": [],
   "source": [
    "import json\n",
    "import string\n",
    "import os\n",
    "import shutil\n",
    "import re\n",
    "import pickle\n",
    "import nltk\n",
    "import numpy as np\n",
    "import pandas as pd\n",
    "import datetime\n",
    "import tensorflow as tf\n",
    "from tqdm import tqdm\n",
    "from collections import OrderedDict\n",
    "from nltk.stem import WordNetLemmatizer\n",
    "from nltk.tokenize import word_tokenize\n",
    "from nltk.corpus import stopwords\n",
    "import matplotlib.pyplot as plt\n",
    "from tensorflow.keras.preprocessing.text import Tokenizer, text_to_word_sequence\n",
    "from tensorflow.keras.preprocessing.sequence import pad_sequences"
   ]
  },
  {
   "cell_type": "code",
   "execution_count": 44,
   "metadata": {
    "id": "vEOxvJdIraMw"
   },
   "outputs": [],
   "source": [
    "x_train_df = pd.read_csv(\"../dataset/data/x_train.csv\")\n",
    "y_train_df = pd.read_csv(\"../dataset/data/y_train.csv\")\n",
    "x_test_df = pd.read_csv(\"../dataset/data/x_test.csv\")\n",
    "y_test_df = pd.read_csv(\"../dataset/data/y_test.csv\")"
   ]
  },
  {
   "cell_type": "code",
   "execution_count": 45,
   "metadata": {
    "id": "7maR7c9V0Rab"
   },
   "outputs": [],
   "source": [
    "items = pd.read_csv('../dataset/dressipi_recsys2022/item_features.csv')\n",
    "items = sorted(set(items['item_id'].tolist()))"
   ]
  },
  {
   "cell_type": "code",
   "execution_count": 6,
   "metadata": {
    "id": "_vcvWLZb06oC"
   },
   "outputs": [],
   "source": [
    "items_map = {k:c for c, k in enumerate(items)}"
   ]
  },
  {
   "cell_type": "code",
   "execution_count": 46,
   "metadata": {
    "id": "Y9KLT_d_ziDw"
   },
   "outputs": [],
   "source": [
    "embedding_matrix = np.load('../dataset/ICM.npy')"
   ]
  },
  {
   "cell_type": "code",
   "execution_count": 10,
   "metadata": {
    "colab": {
     "background_save": true
    },
    "id": "PPoevWP-03bb"
   },
   "outputs": [],
   "source": [
    "train_session_items_map = x_train_df.groupby('session_id')['item_id'].apply(list).to_dict()\n",
    "test_session_items_map = x_test_df.groupby('session_id')['item_id'].apply(list).to_dict()"
   ]
  },
  {
   "cell_type": "code",
   "execution_count": 11,
   "metadata": {
    "colab": {
     "background_save": true
    },
    "id": "VY6qXV3U864e"
   },
   "outputs": [],
   "source": [
    "y_train_df.sort_values(by=['session_id'],inplace=True)\n",
    "train_session_items_map = OrderedDict(sorted(train_session_items_map.items()))"
   ]
  },
  {
   "cell_type": "code",
   "execution_count": 12,
   "metadata": {
    "colab": {
     "background_save": true
    },
    "id": "oOJxCu1bCAO3"
   },
   "outputs": [],
   "source": [
    "y_test_df.sort_values(by=['session_id'],inplace=True)\n",
    "test_session_items_map = OrderedDict(sorted(test_session_items_map.items()))"
   ]
  },
  {
   "cell_type": "code",
   "execution_count": 13,
   "metadata": {
    "colab": {
     "background_save": true
    },
    "id": "8DJ4jrTQB1lI"
   },
   "outputs": [],
   "source": [
    "x_train = list(map(list, (train_session_items_map.values())))\n",
    "y_train = y_train_df['item_id'].tolist()\n",
    "x_test = list(map(list, (test_session_items_map.values())))\n",
    "y_test = y_test_df['item_id'].tolist()"
   ]
  },
  {
   "cell_type": "code",
   "execution_count": 14,
   "metadata": {
    "colab": {
     "background_save": true,
     "base_uri": "https://localhost:8080/"
    },
    "id": "wKJgoMf31Zwh",
    "outputId": "104a11dc-10bf-410d-a91d-a9fb349d43b1"
   },
   "outputs": [
    {
     "name": "stderr",
     "output_type": "stream",
     "text": [
      "100%|██████████| 918382/918382 [00:02<00:00, 450086.74it/s]\n",
      "100%|██████████| 81618/81618 [00:00<00:00, 400706.42it/s]\n",
      "100%|██████████| 918382/918382 [00:00<00:00, 2150250.22it/s]\n",
      "100%|██████████| 81618/81618 [00:00<00:00, 1873177.63it/s]\n"
     ]
    }
   ],
   "source": [
    "for i in tqdm(range(len(x_train))):\n",
    "  for j in range(len(x_train[i])):\n",
    "    x_train[i][j] = items_map[x_train[i][j]]\n",
    "\n",
    "for i in tqdm(range(len(x_test))):\n",
    "  for j in range(len(x_test[i])):\n",
    "    x_test[i][j] = items_map[x_test[i][j]]  \n",
    "\n",
    "for i in tqdm(range(len(y_train))):\n",
    "  y_train[i] = items_map[y_train[i]]  \n",
    "\n",
    "for i in tqdm(range(len(y_test))):\n",
    "  y_test[i] = items_map[y_test[i]] "
   ]
  },
  {
   "cell_type": "code",
   "execution_count": 15,
   "metadata": {
    "colab": {
     "base_uri": "https://localhost:8080/"
    },
    "id": "lFZg0bqaB7Py",
    "outputId": "c5433941-d5a1-4b97-b207-6de85958ea00"
   },
   "outputs": [],
   "source": [
    "train_max_len = len(max(x_train,key=len))\n",
    "x_train_sequence = pad_sequences(x_train,maxlen=train_max_len)\n",
    "x_test_sequence = pad_sequences(x_test,maxlen=train_max_len)"
   ]
  },
  {
   "cell_type": "code",
   "execution_count": 16,
   "metadata": {
    "id": "sIZvPjQ9WqZM"
   },
   "outputs": [],
   "source": [
    "y_train = np.array(y_train).reshape(-1,1)\n",
    "y_test = np.array(y_test).reshape(-1,1)"
   ]
  },
  {
   "cell_type": "code",
   "execution_count": 17,
   "metadata": {
    "id": "0d8kljcizW0W"
   },
   "outputs": [],
   "source": [
    "EMBEDDING_DIM = 64\n",
    "num_items = embedding_matrix.shape[0]\n",
    "size_of_vocabulary = embedding_matrix.shape[0]"
   ]
  },
  {
   "cell_type": "code",
   "execution_count": 18,
   "metadata": {
    "colab": {
     "base_uri": "https://localhost:8080/"
    },
    "id": "np2e70e32vWJ",
    "outputId": "748d4868-b16b-486f-dce1-47c717fbc790"
   },
   "outputs": [
    {
     "data": {
      "text/plain": [
       "(23691, 64)"
      ]
     },
     "execution_count": 18,
     "metadata": {},
     "output_type": "execute_result"
    }
   ],
   "source": [
    "embedding_matrix.shape"
   ]
  },
  {
   "cell_type": "code",
   "execution_count": 19,
   "metadata": {
    "colab": {
     "base_uri": "https://localhost:8080/"
    },
    "id": "MhHzBYtPuZYE",
    "outputId": "f25f9068-d202-45b9-8a87-eb89f86f6f14"
   },
   "outputs": [
    {
     "data": {
      "text/plain": [
       "23691"
      ]
     },
     "execution_count": 19,
     "metadata": {},
     "output_type": "execute_result"
    }
   ],
   "source": [
    "size_of_vocabulary"
   ]
  },
  {
   "cell_type": "code",
   "execution_count": 26,
   "metadata": {
    "id": "09Qro8RhEbQu"
   },
   "outputs": [],
   "source": [
    "class LSTM4Rec():\n",
    "    def __init__(self,x,y,**kwargs):\n",
    "        self.model = None\n",
    "        self.model_params = kwargs.get('model_params')\n",
    "        self.callback_params = kwargs.get('callback_params')\n",
    "        self.training_params = kwargs.get('training_params')\n",
    "        self.resume_training = kwargs.get('resume_training')\n",
    "        self.checkpoint_filepath =self.callback_params.get('checkpoint_filepath','default_model.ckpt')\n",
    "        self.early_stopping_monitor = self.callback_params.get('early_stopping_monitor')\n",
    "        self.early_stopping_patience = self.callback_params.get('early_stopping_patience',5)\n",
    "        self.verbose = self.callback_params.get('verbose',1)\n",
    "        self.checkpoint_monitor = self.callback_params.get('checkpoint_monitor','val_hamming_loss')\n",
    "        self.save_best_only = self.callback_params.get('save_best_only',True) \n",
    "        self.mode = self.callback_params.get('mode')\n",
    "        self.log_dir = self.callback_params.get('log_dir')\n",
    "        self.callbacks = [ \n",
    "                    tf.keras.callbacks.EarlyStopping(monitor=self.early_stopping_monitor, patience=self.early_stopping_patience,verbose=self.verbose),\n",
    "                    tf.keras.callbacks.ModelCheckpoint(\n",
    "            filepath=self.checkpoint_filepath,verbose=self.verbose,monitor = self.checkpoint_monitor,save_best_only = self.save_best_only, mode = self.mode,save_weights_only=True),\n",
    "            tf.keras.callbacks.TensorBoard(log_dir=self.log_dir, histogram_freq=1)\n",
    "            ]\n",
    "        self.x = x\n",
    "        self.y = y\n",
    "        self.num_items = self.model_params.get('num_items')\n",
    "    \n",
    "    def get_model(self):\n",
    "        return self.model\n",
    "\n",
    "    def build_lstm_model(self,compile=True):\n",
    "        self.size_of_vocabulary = self.model_params.get('size_of_vocabulary')\n",
    "        self.metrics = self.model_params.get('metrics')\n",
    "        self.optimizer = self.model_params.get('optimizer','sgd')\n",
    "        self.loss_function = self.model_params.get('loss_function','binary_crossentropy')\n",
    "        self.dropout1 = self.model_params.get('dropout1',0.2)\n",
    "        self.dropout2 = self.model_params.get('dropout2',0.2)\n",
    "        self.regularizer = self.model_params.get('regularizer',None)\n",
    "        self.lstm_n_dim = self.model_params.get('lstm_n_dim',64)\n",
    "        self.dense_n_dim = self.model_params.get('dense_n_dim',128)\n",
    "        self.embedding_matrix = self.model_params.get('embedding_matrix',None)\n",
    "        self.model = tf.keras.Sequential()\n",
    "        self.model.add(tf.keras.layers.Embedding(self.size_of_vocabulary,EMBEDDING_DIM,trainable = False,mask_zero = True, weights=[embedding_matrix]))\n",
    "        self.model.add(tf.keras.layers.LSTM(self.lstm_n_dim,dropout=self.dropout1))\n",
    "        self.model.add(tf.keras.layers.Dense(self.dense_n_dim,activation='relu',kernel_regularizer=self.regularizer)) \n",
    "        self.model.add((tf.keras.layers.Dropout(self.dropout2)))\n",
    "        self.model.add(tf.keras.layers.Dense(self.num_items,activation='softmax'))\n",
    "        if compile==True:\n",
    "            self.model.compile(optimizer = self.optimizer,loss = self.loss_function,metrics = self.metrics)\n",
    "            print(self.model.summary())\n",
    "    \n",
    "    def train_model(self):\n",
    "\n",
    "        if self.resume_training == True:\n",
    "            print(self.checkpoint_filepath)\n",
    "            self.model.load_weights(self.checkpoint_filepath)\n",
    "        self.training_history = self.model.fit(**self.training_params,callbacks=self.callbacks)\n",
    "\n",
    "    def test_model(self,x_test,y_test,path, stored = False):\n",
    "        if stored == True:\n",
    "            checkpoint_dir = path\n",
    "            print(\"Checkpoint dir is\",checkpoint_dir)\n",
    "            self.build_lstm_model()\n",
    "            self.model.load_weights(path)            \n",
    "            preds = self.model.predict(x_test,batch_size=1024)\n",
    "        return preds\n",
    "    \n",
    "    def get_history(self):\n",
    "        return self.training_history"
   ]
  },
  {
   "cell_type": "code",
   "execution_count": 27,
   "metadata": {
    "id": "n4pU90ejRlsO"
   },
   "outputs": [],
   "source": [
    "parameters = {\n",
    "\n",
    "    'model_params':\n",
    "    {'size_of_vocabulary' : size_of_vocabulary,\n",
    "    'optimizer' : 'adam',\n",
    "    'loss_function' : 'sparse_categorical_crossentropy',\n",
    "    'dropout1' : 0.2,\n",
    "    'dropout2': 0.2,\n",
    "    'lstm_n_dim' : 512,\n",
    "     'dense_n_dim' : 256,\n",
    "    'embedding_matrix' : embedding_matrix,\n",
    "     'num_items': num_items,\n",
    "     'regularizer' : None\n",
    "\n",
    "    \n",
    "     },\n",
    "    \n",
    "    'callback_params':\n",
    "    {\n",
    "        'checkpoint_filepath' : '../models/lstm/lstm_checkpoint',\n",
    "        'log_dir' : '../models/logs/fit/',\n",
    "        'early_stopping_monitor' : 'val_loss',\n",
    "        'early_stopping_patience' : 3,\n",
    "        'verbose':1,\n",
    "        'checkpoint_monitor': 'val_loss',\n",
    "        'save_best_only' : True,\n",
    "        'mode' : 'min'\n",
    "    },\n",
    "    'training_params':\n",
    "    {\n",
    "        'batch_size':1024,\n",
    "        'epochs':20,\n",
    "        'validation_split':0.02,\n",
    "        'shuffle' : True,\n",
    "        'x': x_test_sequence,\n",
    "        'y': y_test\n",
    "    },\n",
    "    'resume_training':False\n",
    "}"
   ]
  },
  {
   "cell_type": "code",
   "execution_count": 28,
   "metadata": {
    "id": "CMdDgjSGTedz"
   },
   "outputs": [
    {
     "name": "stdout",
     "output_type": "stream",
     "text": [
      "Model: \"sequential_2\"\n",
      "_________________________________________________________________\n",
      " Layer (type)                Output Shape              Param #   \n",
      "=================================================================\n",
      " embedding_2 (Embedding)     (None, None, 64)          1516224   \n",
      "                                                                 \n",
      " lstm_2 (LSTM)               (None, 512)               1181696   \n",
      "                                                                 \n",
      " dense_4 (Dense)             (None, 256)               131328    \n",
      "                                                                 \n",
      " dropout_2 (Dropout)         (None, 256)               0         \n",
      "                                                                 \n",
      " dense_5 (Dense)             (None, 23691)             6088587   \n",
      "                                                                 \n",
      "=================================================================\n",
      "Total params: 8,917,835\n",
      "Trainable params: 7,401,611\n",
      "Non-trainable params: 1,516,224\n",
      "_________________________________________________________________\n",
      "None\n",
      "Epoch 1/20\n",
      "79/79 [==============================] - ETA: 0s - loss: 8.5321\n",
      "Epoch 1: val_loss improved from inf to 7.66533, saving model to recsys2022_project/models/lstm/lstm_checkpoint\n",
      "79/79 [==============================] - 29s 301ms/step - loss: 8.5321 - val_loss: 7.6653\n",
      "Epoch 2/20\n",
      "79/79 [==============================] - ETA: 0s - loss: 7.5125\n",
      "Epoch 2: val_loss improved from 7.66533 to 7.49834, saving model to recsys2022_project/models/lstm/lstm_checkpoint\n",
      "79/79 [==============================] - 22s 282ms/step - loss: 7.5125 - val_loss: 7.4983\n",
      "Epoch 3/20\n",
      "79/79 [==============================] - ETA: 0s - loss: 7.3194\n",
      "Epoch 3: val_loss improved from 7.49834 to 7.27986, saving model to recsys2022_project/models/lstm/lstm_checkpoint\n",
      "79/79 [==============================] - 22s 285ms/step - loss: 7.3194 - val_loss: 7.2799\n",
      "Epoch 4/20\n",
      "79/79 [==============================] - ETA: 0s - loss: 7.1029\n",
      "Epoch 4: val_loss improved from 7.27986 to 7.11169, saving model to recsys2022_project/models/lstm/lstm_checkpoint\n",
      "79/79 [==============================] - 22s 280ms/step - loss: 7.1029 - val_loss: 7.1117\n",
      "Epoch 5/20\n",
      "79/79 [==============================] - ETA: 0s - loss: 6.9054\n",
      "Epoch 5: val_loss improved from 7.11169 to 6.93855, saving model to recsys2022_project/models/lstm/lstm_checkpoint\n",
      "79/79 [==============================] - 23s 287ms/step - loss: 6.9054 - val_loss: 6.9385\n",
      "Epoch 6/20\n",
      "79/79 [==============================] - ETA: 0s - loss: 6.7206\n",
      "Epoch 6: val_loss improved from 6.93855 to 6.84516, saving model to recsys2022_project/models/lstm/lstm_checkpoint\n",
      "79/79 [==============================] - 22s 283ms/step - loss: 6.7206 - val_loss: 6.8452\n",
      "Epoch 7/20\n",
      "79/79 [==============================] - ETA: 0s - loss: 6.5775\n",
      "Epoch 7: val_loss improved from 6.84516 to 6.74764, saving model to recsys2022_project/models/lstm/lstm_checkpoint\n",
      "79/79 [==============================] - 22s 280ms/step - loss: 6.5775 - val_loss: 6.7476\n",
      "Epoch 8/20\n",
      "79/79 [==============================] - ETA: 0s - loss: 6.4638\n",
      "Epoch 8: val_loss improved from 6.74764 to 6.69756, saving model to recsys2022_project/models/lstm/lstm_checkpoint\n",
      "79/79 [==============================] - 22s 282ms/step - loss: 6.4638 - val_loss: 6.6976\n",
      "Epoch 9/20\n",
      "79/79 [==============================] - ETA: 0s - loss: 6.3718\n",
      "Epoch 9: val_loss did not improve from 6.69756\n",
      "79/79 [==============================] - 22s 273ms/step - loss: 6.3718 - val_loss: 6.7001\n",
      "Epoch 10/20\n",
      "79/79 [==============================] - ETA: 0s - loss: 6.2907\n",
      "Epoch 10: val_loss improved from 6.69756 to 6.65128, saving model to recsys2022_project/models/lstm/lstm_checkpoint\n",
      "79/79 [==============================] - 22s 283ms/step - loss: 6.2907 - val_loss: 6.6513\n",
      "Epoch 11/20\n",
      "79/79 [==============================] - ETA: 0s - loss: 6.2084\n",
      "Epoch 11: val_loss improved from 6.65128 to 6.64047, saving model to recsys2022_project/models/lstm/lstm_checkpoint\n",
      "79/79 [==============================] - 22s 280ms/step - loss: 6.2084 - val_loss: 6.6405\n",
      "Epoch 12/20\n",
      "79/79 [==============================] - ETA: 0s - loss: 6.1252\n",
      "Epoch 12: val_loss improved from 6.64047 to 6.61641, saving model to recsys2022_project/models/lstm/lstm_checkpoint\n",
      "79/79 [==============================] - 22s 280ms/step - loss: 6.1252 - val_loss: 6.6164\n",
      "Epoch 13/20\n",
      "79/79 [==============================] - ETA: 0s - loss: 6.0406\n",
      "Epoch 13: val_loss did not improve from 6.61641\n",
      "79/79 [==============================] - 22s 273ms/step - loss: 6.0406 - val_loss: 6.6240\n",
      "Epoch 14/20\n",
      "79/79 [==============================] - ETA: 0s - loss: 5.9588\n",
      "Epoch 14: val_loss improved from 6.61641 to 6.60903, saving model to recsys2022_project/models/lstm/lstm_checkpoint\n",
      "79/79 [==============================] - 22s 283ms/step - loss: 5.9588 - val_loss: 6.6090\n",
      "Epoch 15/20\n",
      "79/79 [==============================] - ETA: 0s - loss: 5.8687\n",
      "Epoch 15: val_loss did not improve from 6.60903\n",
      "79/79 [==============================] - 21s 272ms/step - loss: 5.8687 - val_loss: 6.6093\n",
      "Epoch 16/20\n",
      "79/79 [==============================] - ETA: 0s - loss: 5.7860\n",
      "Epoch 16: val_loss did not improve from 6.60903\n",
      "79/79 [==============================] - 22s 273ms/step - loss: 5.7860 - val_loss: 6.6288\n",
      "Epoch 17/20\n",
      "79/79 [==============================] - ETA: 0s - loss: 5.6973\n",
      "Epoch 17: val_loss did not improve from 6.60903\n",
      "79/79 [==============================] - 21s 271ms/step - loss: 5.6973 - val_loss: 6.6397\n",
      "Epoch 17: early stopping\n"
     ]
    }
   ],
   "source": [
    "model = LSTM4Rec(x_train_sequence,y_train,**parameters)\n",
    "model.build_lstm_model()\n",
    "history = model.train_model()"
   ]
  },
  {
   "cell_type": "code",
   "execution_count": 42,
   "metadata": {},
   "outputs": [
    {
     "data": {
      "image/png": "[encoded data removed]",
      "text/plain": [
       "<Figure size 640x480 with 1 Axes>"
      ]
     },
     "metadata": {},
     "output_type": "display_data"
    }
   ],
   "source": [
    "history = model.get_history()\n",
    "val_loss = history.history['val_loss']\n",
    "loss = history.history['loss']\n",
    "epochs = [epoch for epoch in range(len(val_loss))]\n",
    "plt.plot(epochs, loss, label = \"Training Loss\")\n",
    "plt.plot(epochs, val_loss, label = \"Validation loss\")\n",
    "plt.legend()\n",
    "plt.show()"
   ]
  },
  {
   "cell_type": "code",
   "execution_count": 43,
   "metadata": {
    "id": "JpzKDidykS0T"
   },
   "outputs": [
    {
     "name": "stdout",
     "output_type": "stream",
     "text": [
      "Checkpoint dir is recsys2022_project/models/lstm/lstm_checkpoint\n",
      "Model: \"sequential_3\"\n",
      "_________________________________________________________________\n",
      " Layer (type)                Output Shape              Param #   \n",
      "=================================================================\n",
      " embedding_3 (Embedding)     (None, None, 64)          1516224   \n",
      "                                                                 \n",
      " lstm_3 (LSTM)               (None, 512)               1181696   \n",
      "                                                                 \n",
      " dense_6 (Dense)             (None, 256)               131328    \n",
      "                                                                 \n",
      " dropout_3 (Dropout)         (None, 256)               0         \n",
      "                                                                 \n",
      " dense_7 (Dense)             (None, 23691)             6088587   \n",
      "                                                                 \n",
      "=================================================================\n",
      "Total params: 8,917,835\n",
      "Trainable params: 7,401,611\n",
      "Non-trainable params: 1,516,224\n",
      "_________________________________________________________________\n",
      "None\n",
      "80/80 [==============================] - 8s 78ms/step\n"
     ]
    },
    {
     "name": "stderr",
     "output_type": "stream",
     "text": [
      "2022-12-06 05:14:49.910847: W tensorflow/tsl/framework/cpu_allocator_impl.cc:82] Allocation of 7734448152 exceeds 10% of free system memory.\n",
      "100%|██████████| 81618/81618 [02:42<00:00, 500.85it/s]\n"
     ]
    },
    {
     "name": "stdout",
     "output_type": "stream",
     "text": [
      "[0.1481399]\n"
     ]
    },
    {
     "name": "stderr",
     "output_type": "stream",
     "text": [
      "/home/jupyter/env/lib/python3.7/site-packages/numpy/core/_methods.py:163: VisibleDeprecationWarning: Creating an ndarray from ragged nested sequences (which is a list-or-tuple of lists-or-tuples-or ndarrays with different lengths or shapes) is deprecated. If you meant to do this, you must specify 'dtype=object' when creating the ndarray.\n",
      "  arr = asanyarray(a)\n"
     ]
    }
   ],
   "source": [
    "model = LSTM4Rec(x_train_sequence,y_train,**parameters)\n",
    "preds = model.test_model(x_test_sequence,y_test,path='../models/lstm/lstm_checkpoint',stored=True)\n",
    "\n",
    "\n",
    "res = []\n",
    "for i in tqdm(range(len(preds))):\n",
    "  t = np.argsort(preds[i])[::-1][:100]\n",
    "  if y_test[i] in t:\n",
    "    res.append(1/(np.where(t == y_test[i])[0]+1))\n",
    "  else:\n",
    "    res.append(0)\n",
    "\n",
    "print(np.mean(res))"
   ]
  },
  {
   "cell_type": "code",
   "execution_count": null,
   "metadata": {
    "id": "R6YijUIFW9GP"
   },
   "outputs": [],
   "source": []
  }
 ],
 "metadata": {
  "accelerator": "GPU",
  "colab": {
   "provenance": []
  },
  "environment": {
   "kernel": "env",
   "name": "tf2-gpu.2-8.m100",
   "type": "gcloud",
   "uri": "gcr.io/deeplearning-platform-release/tf2-gpu.2-8:m100"
  },
  "gpuClass": "standard",
  "kernelspec": {
   "display_name": "env",
   "language": "python",
   "name": "env"
  },
  "language_info": {
   "codemirror_mode": {
    "name": "ipython",
    "version": 3
   },
   "file_extension": ".py",
   "mimetype": "text/x-python",
   "name": "python",
   "nbconvert_exporter": "python",
   "pygments_lexer": "ipython3",
   "version": "3.7.3"
  }
 },
 "nbformat": 4,
 "nbformat_minor": 4
}
