{
  "nbformat": 4,
  "nbformat_minor": 0,
  "metadata": {
    "colab": {
      "provenance": []
    },
    "kernelspec": {
      "name": "python3",
      "display_name": "Python 3"
    },
    "language_info": {
      "name": "python"
    }
  },
  "cells": [
    {
      "cell_type": "code",
      "execution_count": null,
      "metadata": {
        "id": "HRWpmNpCbgxI"
      },
      "outputs": [],
      "source": [
        "import pandas as pd\n",
        "from tqdm import tqdm\n",
        "from gensim.models import Word2Vec\n",
        "from datetime import datetime\n",
        "import numpy as np"
      ]
    },
    {
      "cell_type": "code",
      "source": [
        "x_train = pd.read_csv('../dataset/data/x_train.csv')\n",
        "x_test = pd.read_csv('../dataset/data/x_test.csv')\n",
        "y_train = pd.read_csv('../dataset/data/y_train.csv')\n",
        "y_test = pd.read_csv('../dataset/data/y_test.csv')"
      ],
      "metadata": {
        "id": "v5MNrCcQQdlT"
      },
      "execution_count": null,
      "outputs": []
    },
    {
      "cell_type": "code",
      "source": [
        "x_train['item_id'] = x_train['item_id'].astype(str)\n",
        "y_train['item_id'] = y_train['item_id'].astype(str)\n",
        "x_test['item_id'] = x_test['item_id'].astype(str)\n",
        "y_test['item_id'] = y_test['item_id'].astype(str)"
      ],
      "metadata": {
        "id": "hz3RC0W5QdwS"
      },
      "execution_count": null,
      "outputs": []
    },
    {
      "cell_type": "code",
      "source": [
        "session_items_map = x_train.groupby('session_id')['item_id'].apply(list).to_dict()\n",
        "session_purchase_map = y_train.groupby('session_id')['item_id'].apply(list).to_dict()"
      ],
      "metadata": {
        "id": "gHf5BJSKcdnM"
      },
      "execution_count": null,
      "outputs": []
    },
    {
      "cell_type": "code",
      "source": [
        "training_set= []\n",
        "for session,items in tqdm(session_items_map.items()):\n",
        "  training_set.append(items+session_purchase_map[session])"
      ],
      "metadata": {
        "colab": {
          "base_uri": "https://localhost:8080/"
        },
        "id": "EwrJZkA-jiRp",
        "outputId": "c5cbd942-8c2c-43ba-a4a2-d3f09897c5e7"
      },
      "execution_count": null,
      "outputs": [
        {
          "output_type": "stream",
          "name": "stderr",
          "text": [
            "100%|██████████| 918382/918382 [00:02<00:00, 317806.65it/s]\n"
          ]
        }
      ]
    },
    {
      "cell_type": "code",
      "source": [
        "max_items = len(max(training_set,key=len))\n",
        "model = Word2Vec(sentences=training_set)"
      ],
      "metadata": {
        "id": "ip-K-mvNj9WS"
      },
      "execution_count": null,
      "outputs": []
    },
    {
      "cell_type": "code",
      "source": [
        "test_session_items_map = x_test.groupby('session_id')['item_id'].apply(list).to_dict()\n",
        "test_session_purchase_map = y_test.groupby('session_id')['item_id'].apply(list).to_dict()"
      ],
      "metadata": {
        "id": "ts8utyJS6BMK"
      },
      "execution_count": null,
      "outputs": []
    },
    {
      "cell_type": "code",
      "source": [
        "test_set= []\n",
        "y_true = []\n",
        "for session,items in tqdm(test_session_items_map.items()):\n",
        "  test_set.append(items)\n",
        "  y_true.append(test_session_purchase_map[session][0])"
      ],
      "metadata": {
        "colab": {
          "base_uri": "https://localhost:8080/"
        },
        "id": "bhDwtZos5sv1",
        "outputId": "9fe32cf4-027c-450a-b967-e54ee0dd220d"
      },
      "execution_count": null,
      "outputs": [
        {
          "output_type": "stream",
          "name": "stderr",
          "text": [
            "100%|██████████| 81618/81618 [00:00<00:00, 817765.89it/s]\n"
          ]
        }
      ]
    },
    {
      "cell_type": "code",
      "source": [
        "ranks = []\n",
        "for i,sample in tqdm(enumerate(test_set)):\n",
        "  preds = model.predict_output_word(sample,topn=100)\n",
        "  if preds is not None:\n",
        "    sorted_preds = sorted(preds,key=lambda x:x[1],reverse=True)\n",
        "    vals = [val[0] for val in sorted_preds]\n",
        "    if y_true[i] in vals:\n",
        "      rank = vals.index(y_true[i])+1\n",
        "      ranks.append(1/rank)\n",
        "    else:\n",
        "      ranks.append(0)\n",
        "  else:\n",
        "    ranks.append(0)\n",
        "\n"
      ],
      "metadata": {
        "colab": {
          "base_uri": "https://localhost:8080/"
        },
        "id": "DoL1A2R565Dq",
        "outputId": "50f478d5-16d1-4ca2-8971-4f85bae30192"
      },
      "execution_count": null,
      "outputs": [
        {
          "output_type": "stream",
          "name": "stderr",
          "text": [
            "0it [00:00, ?it/s]/usr/local/lib/python3.7/dist-packages/gensim/models/word2vec.py:1140: UserWarning: All the input context words are out-of-vocabulary for the current model.\n",
            "  warnings.warn(\"All the input context words are out-of-vocabulary for the current model.\")\n",
            "81618it [11:27, 118.67it/s]\n"
          ]
        }
      ]
    },
    {
      "cell_type": "code",
      "source": [
        "mean_reciprocal_rank = sum(ranks) / len(ranks)\n"
      ],
      "metadata": {
        "id": "_BUYwU2WF3t8"
      },
      "execution_count": null,
      "outputs": []
    },
    {
      "cell_type": "code",
      "source": [
        "mean_reciprocal_rank"
      ],
      "metadata": {
        "colab": {
          "base_uri": "https://localhost:8080/"
        },
        "id": "AWfpG_bA8ewz",
        "outputId": "1ae0c5ca-f7da-442e-92c0-12d5bddfbb8c"
      },
      "execution_count": null,
      "outputs": [
        {
          "output_type": "execute_result",
          "data": {
            "text/plain": [
              "0.06310078296938161"
            ]
          },
          "metadata": {},
          "execution_count": 27
        }
      ]
    },
    {
      "cell_type": "code",
      "source": [],
      "metadata": {
        "id": "qaLCI8QN8k7M"
      },
      "execution_count": null,
      "outputs": []
    }
  ]
}